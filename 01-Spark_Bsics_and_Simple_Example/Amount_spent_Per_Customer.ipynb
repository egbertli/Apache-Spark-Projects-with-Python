{
 "cells": [
  {
   "cell_type": "code",
   "execution_count": 1,
   "metadata": {
    "collapsed": true
   },
   "outputs": [],
   "source": [
    "from pyspark import SparkConf, SparkContext\n",
    "import pandas as pd\n",
    "import matplotlib.pyplot as plt\n",
    "import seaborn as sns\n",
    "plt.style.use('seaborn')\n",
    "%matplotlib inline"
   ]
  },
  {
   "cell_type": "code",
   "execution_count": 3,
   "metadata": {},
   "outputs": [
    {
     "data": {
      "text/html": [
       "<div>\n",
       "<style scoped>\n",
       "    .dataframe tbody tr th:only-of-type {\n",
       "        vertical-align: middle;\n",
       "    }\n",
       "\n",
       "    .dataframe tbody tr th {\n",
       "        vertical-align: top;\n",
       "    }\n",
       "\n",
       "    .dataframe thead th {\n",
       "        text-align: right;\n",
       "    }\n",
       "</style>\n",
       "<table border=\"1\" class=\"dataframe\">\n",
       "  <thead>\n",
       "    <tr style=\"text-align: right;\">\n",
       "      <th></th>\n",
       "      <th>customer_id</th>\n",
       "      <th>item_id</th>\n",
       "      <th>amount</th>\n",
       "    </tr>\n",
       "  </thead>\n",
       "  <tbody>\n",
       "    <tr>\n",
       "      <th>0</th>\n",
       "      <td>44</td>\n",
       "      <td>8602</td>\n",
       "      <td>37.19</td>\n",
       "    </tr>\n",
       "    <tr>\n",
       "      <th>1</th>\n",
       "      <td>35</td>\n",
       "      <td>5368</td>\n",
       "      <td>65.89</td>\n",
       "    </tr>\n",
       "    <tr>\n",
       "      <th>2</th>\n",
       "      <td>2</td>\n",
       "      <td>3391</td>\n",
       "      <td>40.64</td>\n",
       "    </tr>\n",
       "    <tr>\n",
       "      <th>3</th>\n",
       "      <td>47</td>\n",
       "      <td>6694</td>\n",
       "      <td>14.98</td>\n",
       "    </tr>\n",
       "    <tr>\n",
       "      <th>4</th>\n",
       "      <td>29</td>\n",
       "      <td>680</td>\n",
       "      <td>13.08</td>\n",
       "    </tr>\n",
       "  </tbody>\n",
       "</table>\n",
       "</div>"
      ],
      "text/plain": [
       "   customer_id  item_id  amount\n",
       "0           44     8602   37.19\n",
       "1           35     5368   65.89\n",
       "2            2     3391   40.64\n",
       "3           47     6694   14.98\n",
       "4           29      680   13.08"
      ]
     },
     "execution_count": 3,
     "metadata": {},
     "output_type": "execute_result"
    }
   ],
   "source": [
    "df = pd.read_csv('customer-orders.csv', names=['customer_id', 'item_id', 'amount'])\n",
    "df.head()"
   ]
  },
  {
   "cell_type": "code",
   "execution_count": 8,
   "metadata": {},
   "outputs": [
    {
     "data": {
      "text/plain": [
       "customer_id\n",
       "0    5524.95\n",
       "1    4958.60\n",
       "2    5994.59\n",
       "3    4659.63\n",
       "4    4815.05\n",
       "Name: amount, dtype: float64"
      ]
     },
     "execution_count": 8,
     "metadata": {},
     "output_type": "execute_result"
    }
   ],
   "source": [
    "df.groupby('customer_id').sum()['amount'].head()"
   ]
  },
  {
   "cell_type": "code",
   "execution_count": 9,
   "metadata": {
    "collapsed": true
   },
   "outputs": [],
   "source": [
    "conf = SparkConf().setMaster('local').setAppName('customer')\n",
    "sc = SparkContext(conf=conf)"
   ]
  },
  {
   "cell_type": "code",
   "execution_count": 19,
   "metadata": {
    "collapsed": true
   },
   "outputs": [],
   "source": [
    "def parse_line(line):\n",
    "    words = line.split(',')\n",
    "    return (int(words[0]), float(words[2]))"
   ]
  },
  {
   "cell_type": "code",
   "execution_count": 20,
   "metadata": {},
   "outputs": [],
   "source": [
    "customer = sc.textFile('customer-orders.csv')\n",
    "parsed_data = customer.map(parse_line)\n",
    "amouts_per_cust = parsed_data.reduceByKey(lambda x,y: x + y)\n",
    "sorted_amouts_by_cid = amouts_per_cust.sortBy(lambda x: x[1], ascending=False)\n",
    "results = sorted_amouts_by_cid.collect()"
   ]
  },
  {
   "cell_type": "code",
   "execution_count": 24,
   "metadata": {},
   "outputs": [
    {
     "name": "stdout",
     "output_type": "stream",
     "text": [
      "customer ID: 68   Amount:  $6375.45\n",
      "customer ID: 73   Amount:  $6206.20\n",
      "customer ID: 39   Amount:  $6193.11\n",
      "customer ID: 54   Amount:  $6065.39\n",
      "customer ID: 71   Amount:  $5995.66\n",
      "customer ID: 2   Amount:  $5994.59\n",
      "customer ID: 97   Amount:  $5977.19\n",
      "customer ID: 46   Amount:  $5963.11\n",
      "customer ID: 42   Amount:  $5696.84\n",
      "customer ID: 59   Amount:  $5642.89\n",
      "customer ID: 41   Amount:  $5637.62\n",
      "customer ID: 0   Amount:  $5524.95\n",
      "customer ID: 8   Amount:  $5517.24\n",
      "customer ID: 85   Amount:  $5503.43\n",
      "customer ID: 61   Amount:  $5497.48\n",
      "customer ID: 32   Amount:  $5496.05\n",
      "customer ID: 58   Amount:  $5437.73\n",
      "customer ID: 63   Amount:  $5415.15\n",
      "customer ID: 15   Amount:  $5413.51\n",
      "customer ID: 6   Amount:  $5397.88\n",
      "customer ID: 92   Amount:  $5379.28\n",
      "customer ID: 43   Amount:  $5368.83\n",
      "customer ID: 70   Amount:  $5368.25\n",
      "customer ID: 72   Amount:  $5337.44\n",
      "customer ID: 34   Amount:  $5330.80\n",
      "customer ID: 9   Amount:  $5322.65\n",
      "customer ID: 55   Amount:  $5298.09\n",
      "customer ID: 90   Amount:  $5290.41\n",
      "customer ID: 64   Amount:  $5288.69\n",
      "customer ID: 93   Amount:  $5265.75\n",
      "customer ID: 24   Amount:  $5259.92\n",
      "customer ID: 33   Amount:  $5254.66\n",
      "customer ID: 62   Amount:  $5253.32\n",
      "customer ID: 26   Amount:  $5250.40\n",
      "customer ID: 52   Amount:  $5245.06\n",
      "customer ID: 87   Amount:  $5206.40\n",
      "customer ID: 40   Amount:  $5186.43\n",
      "customer ID: 35   Amount:  $5155.42\n",
      "customer ID: 11   Amount:  $5152.29\n",
      "customer ID: 65   Amount:  $5140.35\n",
      "customer ID: 69   Amount:  $5123.01\n",
      "customer ID: 81   Amount:  $5112.71\n",
      "customer ID: 19   Amount:  $5059.43\n",
      "customer ID: 25   Amount:  $5057.61\n",
      "customer ID: 60   Amount:  $5040.71\n",
      "customer ID: 17   Amount:  $5032.68\n",
      "customer ID: 29   Amount:  $5032.53\n",
      "customer ID: 22   Amount:  $5019.45\n",
      "customer ID: 28   Amount:  $5000.71\n",
      "customer ID: 30   Amount:  $4990.72\n",
      "customer ID: 16   Amount:  $4979.06\n",
      "customer ID: 51   Amount:  $4975.22\n",
      "customer ID: 1   Amount:  $4958.60\n",
      "customer ID: 53   Amount:  $4945.30\n",
      "customer ID: 18   Amount:  $4921.27\n",
      "customer ID: 27   Amount:  $4915.89\n",
      "customer ID: 86   Amount:  $4908.81\n",
      "customer ID: 76   Amount:  $4904.21\n",
      "customer ID: 38   Amount:  $4898.46\n",
      "customer ID: 95   Amount:  $4876.84\n",
      "customer ID: 89   Amount:  $4851.48\n",
      "customer ID: 20   Amount:  $4836.86\n",
      "customer ID: 88   Amount:  $4830.55\n",
      "customer ID: 10   Amount:  $4819.70\n",
      "customer ID: 4   Amount:  $4815.05\n",
      "customer ID: 82   Amount:  $4812.49\n",
      "customer ID: 31   Amount:  $4765.05\n",
      "customer ID: 44   Amount:  $4756.89\n",
      "customer ID: 7   Amount:  $4755.07\n",
      "customer ID: 37   Amount:  $4735.20\n",
      "customer ID: 14   Amount:  $4735.03\n",
      "customer ID: 80   Amount:  $4727.86\n",
      "customer ID: 21   Amount:  $4707.41\n",
      "customer ID: 56   Amount:  $4701.02\n",
      "customer ID: 66   Amount:  $4681.92\n",
      "customer ID: 12   Amount:  $4664.59\n",
      "customer ID: 3   Amount:  $4659.63\n",
      "customer ID: 84   Amount:  $4652.94\n",
      "customer ID: 74   Amount:  $4647.13\n",
      "customer ID: 91   Amount:  $4642.26\n",
      "customer ID: 83   Amount:  $4635.80\n",
      "customer ID: 57   Amount:  $4628.40\n",
      "customer ID: 5   Amount:  $4561.07\n",
      "customer ID: 78   Amount:  $4524.51\n",
      "customer ID: 50   Amount:  $4517.27\n",
      "customer ID: 67   Amount:  $4505.79\n",
      "customer ID: 94   Amount:  $4475.57\n",
      "customer ID: 49   Amount:  $4394.60\n",
      "customer ID: 48   Amount:  $4384.33\n",
      "customer ID: 13   Amount:  $4367.62\n",
      "customer ID: 77   Amount:  $4327.73\n",
      "customer ID: 47   Amount:  $4316.30\n",
      "customer ID: 98   Amount:  $4297.26\n",
      "customer ID: 36   Amount:  $4278.05\n",
      "customer ID: 75   Amount:  $4178.50\n",
      "customer ID: 99   Amount:  $4172.29\n",
      "customer ID: 23   Amount:  $4042.65\n",
      "customer ID: 96   Amount:  $3924.23\n",
      "customer ID: 79   Amount:  $3790.57\n",
      "customer ID: 45   Amount:  $3309.38\n"
     ]
    }
   ],
   "source": [
    "for result in results:\n",
    "    print('customer ID: '+ str(result[0]), \"  Amount: \", \"${:.2f}\".format(result[1]))"
   ]
  },
  {
   "cell_type": "code",
   "execution_count": null,
   "metadata": {
    "collapsed": true
   },
   "outputs": [],
   "source": []
  }
 ],
 "metadata": {
  "kernelspec": {
   "display_name": "Python 3",
   "language": "python",
   "name": "python3"
  },
  "language_info": {
   "codemirror_mode": {
    "name": "ipython",
    "version": 3
   },
   "file_extension": ".py",
   "mimetype": "text/x-python",
   "name": "python",
   "nbconvert_exporter": "python",
   "pygments_lexer": "ipython3",
   "version": "3.6.3"
  }
 },
 "nbformat": 4,
 "nbformat_minor": 2
}
