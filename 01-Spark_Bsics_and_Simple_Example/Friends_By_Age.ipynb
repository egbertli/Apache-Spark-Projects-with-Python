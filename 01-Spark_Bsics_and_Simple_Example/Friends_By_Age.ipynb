{
 "cells": [
  {
   "cell_type": "markdown",
   "metadata": {},
   "source": [
    "# FRIENDS BY AGE Example\n",
    "- Input Data: ID, name, age, number of friends\n",
    "e.g.\n",
    "\n",
    "\n",
    "- 0,Will,33,385\n",
    "- 1,Jean-Luc,33,2\n",
    "- 3,Deanna,40,465\n",
    "- 4,Quark,68,21"
   ]
  },
  {
   "cell_type": "code",
   "execution_count": 1,
   "metadata": {
    "collapsed": true
   },
   "outputs": [],
   "source": [
    "from pyspark import SparkConf, SparkContext"
   ]
  },
  {
   "cell_type": "code",
   "execution_count": 2,
   "metadata": {
    "collapsed": true
   },
   "outputs": [],
   "source": [
    "conf = SparkConf().setMaster('local').setAppName('FriendsByAge')\n",
    "sc = SparkContext(conf=conf)"
   ]
  },
  {
   "cell_type": "code",
   "execution_count": 6,
   "metadata": {
    "collapsed": true
   },
   "outputs": [],
   "source": [
    "def parse_line(line):\n",
    "    fields = line.split(',')\n",
    "    age, num_friends = int(fields[2]), int(fields[3])\n",
    "    return (age, num_friends)"
   ]
  },
  {
   "cell_type": "code",
   "execution_count": 7,
   "metadata": {
    "collapsed": true
   },
   "outputs": [],
   "source": [
    "# load csv file, create RDD Object\n",
    "lines = sc.textFile('fakefriends.csv')\n",
    "\n",
    "# broadcast method to RDD\n",
    "rdd = lines.map(parse_line)\n",
    "\n",
    "# get the total number of friends and entries by age\n",
    "totals_by_age = rdd.mapValues(lambda x: (x, 1)).reduceByKey(lambda x,y: (x[0] + y[0], x[1] + y[1]))\n",
    "\n",
    "# get Average number of friends by age\n",
    "averages_by_age = totals_by_age.mapValues(lambda x: x[0]/x[1])\n",
    "\n",
    "# Take Actions, collect the final result\n",
    "results = averages_by_age.collect()"
   ]
  },
  {
   "cell_type": "code",
   "execution_count": 8,
   "metadata": {},
   "outputs": [
    {
     "name": "stdout",
     "output_type": "stream",
     "text": [
      "0   (33, 325.3333333333333)\n",
      "1   (26, 242.05882352941177)\n",
      "2   (55, 295.53846153846155)\n",
      "3   (40, 250.8235294117647)\n",
      "4   (68, 269.6)\n",
      "5   (59, 220.0)\n",
      "6   (37, 249.33333333333334)\n",
      "7   (54, 278.0769230769231)\n",
      "8   (38, 193.53333333333333)\n",
      "9   (27, 228.125)\n",
      "10   (53, 222.85714285714286)\n",
      "11   (57, 258.8333333333333)\n",
      "12   (56, 306.6666666666667)\n",
      "13   (43, 230.57142857142858)\n",
      "14   (36, 246.6)\n",
      "15   (22, 206.42857142857142)\n",
      "16   (35, 211.625)\n",
      "17   (45, 309.53846153846155)\n",
      "18   (60, 202.71428571428572)\n",
      "19   (67, 214.625)\n",
      "20   (19, 213.27272727272728)\n",
      "21   (30, 235.8181818181818)\n",
      "22   (51, 302.14285714285717)\n",
      "23   (25, 197.45454545454547)\n",
      "24   (21, 350.875)\n",
      "25   (42, 303.5)\n",
      "26   (49, 184.66666666666666)\n",
      "27   (48, 281.4)\n",
      "28   (50, 254.6)\n",
      "29   (39, 169.28571428571428)\n",
      "30   (32, 207.9090909090909)\n",
      "31   (58, 116.54545454545455)\n",
      "32   (64, 281.3333333333333)\n",
      "33   (31, 267.25)\n",
      "34   (52, 340.6363636363636)\n",
      "35   (24, 233.8)\n",
      "36   (20, 165.0)\n",
      "37   (62, 220.76923076923077)\n",
      "38   (41, 268.55555555555554)\n",
      "39   (44, 282.1666666666667)\n",
      "40   (69, 235.2)\n",
      "41   (65, 298.2)\n",
      "42   (61, 256.22222222222223)\n",
      "43   (28, 209.1)\n",
      "44   (66, 276.44444444444446)\n",
      "45   (46, 223.69230769230768)\n",
      "46   (29, 215.91666666666666)\n",
      "47   (18, 343.375)\n",
      "48   (47, 233.22222222222223)\n",
      "49   (34, 245.5)\n",
      "50   (63, 384.0)\n",
      "51   (23, 246.3)\n"
     ]
    }
   ],
   "source": [
    "for num, result in enumerate(results):\n",
    "    print(num, \" \", result)"
   ]
  }
 ],
 "metadata": {
  "kernelspec": {
   "display_name": "Python 3",
   "language": "python",
   "name": "python3"
  },
  "language_info": {
   "codemirror_mode": {
    "name": "ipython",
    "version": 3
   },
   "file_extension": ".py",
   "mimetype": "text/x-python",
   "name": "python",
   "nbconvert_exporter": "python",
   "pygments_lexer": "ipython3",
   "version": "3.6.3"
  }
 },
 "nbformat": 4,
 "nbformat_minor": 2
}
