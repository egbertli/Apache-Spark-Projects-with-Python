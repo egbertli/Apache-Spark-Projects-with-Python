{
 "cells": [
  {
   "cell_type": "markdown",
   "metadata": {},
   "source": [
    "# FILTER() REMOVES DATA FROM YOUR RDD\n",
    "- Just takes a function that returns a boolean\n",
    "- For example, we want to filter out entries that don't have 'TMIN' inthe first item of a list of data:\n",
    "```\n",
    "minTemps = parsedLines.filter(lambda x: 'TMIN' in x[1])\n",
    "```\n"
   ]
  },
  {
   "cell_type": "markdown",
   "metadata": {},
   "source": [
    "###### Input data snippet:\n",
    "```\n",
    "ITE00100554,18000101,TMAX,-75,,,E,\n",
    "```\n",
    "wether_station_id, timestamp, observation type"
   ]
  },
  {
   "cell_type": "code",
   "execution_count": 1,
   "metadata": {
    "collapsed": true
   },
   "outputs": [],
   "source": [
    "from pyspark import SparkConf, SparkContext"
   ]
  },
  {
   "cell_type": "code",
   "execution_count": 2,
   "metadata": {
    "collapsed": true
   },
   "outputs": [],
   "source": [
    "conf = SparkConf().setMaster('local').setAppName('MinTemperatures')\n",
    "sc = SparkContext(conf=conf)"
   ]
  },
  {
   "cell_type": "code",
   "execution_count": 11,
   "metadata": {
    "collapsed": true
   },
   "outputs": [],
   "source": [
    "def parse_line(line):\n",
    "    fields = line.split(',')\n",
    "    station_id, entry_type = fields[0], fields[2]\n",
    "    temperature = float(fields[3]) * 0.1 * (9.0/5.0) + 32.0\n",
    "    return (station_id, entry_type, temperature)"
   ]
  },
  {
   "cell_type": "code",
   "execution_count": 12,
   "metadata": {},
   "outputs": [],
   "source": [
    "line = sc.textFile('1800.csv')\n",
    "parsed_line = line.map(parse_line)\n",
    "min_temps = parsed_line.filter(lambda x: 'TMIN' in x[1])\n",
    "station_temps = min_temps.map(lambda x : (x[0], x[2]))\n",
    "min_temps = station_temps.reduceByKey(lambda x,y: min(x,y))\n",
    "results = min_temps.collect()"
   ]
  },
  {
   "cell_type": "code",
   "execution_count": 13,
   "metadata": {},
   "outputs": [
    {
     "name": "stdout",
     "output_type": "stream",
     "text": [
      "0   ITE00100554 \t5.36F\n",
      "1   EZE00100082 \t7.70F\n"
     ]
    }
   ],
   "source": [
    "for (num, result) in enumerate(results):\n",
    "    print(num, \" \", result[0] , \"\\t{:.2f}F\".format(result[1]))"
   ]
  },
  {
   "cell_type": "markdown",
   "metadata": {},
   "source": [
    "#### Now find the maximum temperature"
   ]
  },
  {
   "cell_type": "code",
   "execution_count": 14,
   "metadata": {
    "collapsed": true
   },
   "outputs": [],
   "source": [
    "max_temps = parsed_line.filter(lambda x: 'TMAX' in x[1])\n",
    "station_temps = max_temps.map(lambda x: (x[0], x[2]))\n",
    "max_temps = station_temps.reduceByKey(lambda x,y: max(x, y))\n",
    "results = max_temps.collect()"
   ]
  },
  {
   "cell_type": "code",
   "execution_count": 15,
   "metadata": {},
   "outputs": [
    {
     "name": "stdout",
     "output_type": "stream",
     "text": [
      "0   ITE00100554 \t90.14F\n",
      "1   EZE00100082 \t90.14F\n"
     ]
    }
   ],
   "source": [
    "for (num, result) in enumerate(results):\n",
    "    print(num, \" \", result[0] , \"\\t{:.2f}F\".format(result[1]))"
   ]
  }
 ],
 "metadata": {
  "kernelspec": {
   "display_name": "Python 3",
   "language": "python",
   "name": "python3"
  },
  "language_info": {
   "codemirror_mode": {
    "name": "ipython",
    "version": 3
   },
   "file_extension": ".py",
   "mimetype": "text/x-python",
   "name": "python",
   "nbconvert_exporter": "python",
   "pygments_lexer": "ipython3",
   "version": "3.6.3"
  }
 },
 "nbformat": 4,
 "nbformat_minor": 2
}
