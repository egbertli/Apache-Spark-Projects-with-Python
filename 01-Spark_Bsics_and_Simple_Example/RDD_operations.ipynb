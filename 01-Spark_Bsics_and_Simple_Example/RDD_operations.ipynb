{
 "cells": [
  {
   "cell_type": "markdown",
   "metadata": {},
   "source": [
    "# RDD Operation\n",
    "- map\n",
    "- flatmap\n",
    "- filter\n",
    "- distinct\n",
    "- sample\n",
    "- union, intersection, subtract, cartesian"
   ]
  },
  {
   "cell_type": "markdown",
   "metadata": {},
   "source": [
    "# RDD Actions\n",
    "- collect\n",
    "- count\n",
    "- countByValue\n",
    "- take\n",
    "- top\n",
    "- reduce\n",
    "- ... and more..."
   ]
  },
  {
   "cell_type": "markdown",
   "metadata": {},
   "source": [
    "Nothing actually happens in your driver program until an action is called"
   ]
  },
  {
   "cell_type": "markdown",
   "metadata": {},
   "source": [
    "   "
   ]
  },
  {
   "cell_type": "markdown",
   "metadata": {
    "collapsed": true
   },
   "source": [
    "## KEY/VALUE RDD'S\n",
    "And the \"friends by age\" example"
   ]
  },
  {
   "cell_type": "markdown",
   "metadata": {
    "collapsed": true
   },
   "source": [
    "- For example: number of friends by age\n",
    "- Key is age, value is number of friends\n",
    "- Instead of just a list of ages or a list of # of friends, we can store (age, #friends), (age,#friends) ets...\n",
    "###### rdd's can hold eky/value pairs"
   ]
  },
  {
   "cell_type": "markdown",
   "metadata": {
    "collapsed": true
   },
   "source": [
    "###### Creating a key/value RDD\n",
    "\n",
    "- Nothing special in Python, really\n",
    "- Just map pairs of data into the RDD. e.g\n",
    "totalsByAge = rdd.map(lambda x:(x,1))\n",
    "\n",
    "voila, you now have a key/value RDD.\n",
    "\n",
    "OK to have lists as values as well"
   ]
  },
  {
   "cell_type": "markdown",
   "metadata": {
    "collapsed": true
   },
   "source": [
    "###### SPARK CAN DO SPECIAL STUFF WITH KEY/VALUE DATA\n",
    "\n",
    "- reduceByKey() : combine values with the same key using some function. rdd.reduceByKey(lambda x,y: x+y) adds them up\n",
    "- groupByKey(): Group values with the same key\n",
    "- sortByKey(): sort RDD by key values\n",
    "- keys(), values(), - Create an RDD of just the keys, or just the valuesd"
   ]
  },
  {
   "cell_type": "markdown",
   "metadata": {
    "collapsed": true
   },
   "source": [
    "###### YOU CAN DO SQL-STYLE JOINS ON TWO KEY/VALUE RDD'S\n",
    "\n",
    "- join, rightOuterJoin, leftOuterJoin, cogroup, subtractByKey\n",
    "- We'll look at an example of this later"
   ]
  },
  {
   "cell_type": "markdown",
   "metadata": {},
   "source": [
    "###### MAPPING JUST THE VALUES OF A KEY/VALUE RDD\n",
    "\n",
    "- With key/value data, use mapValues() and flatMapValues() if your transformation doesn't affect the keys\n",
    "- it's more efficient"
   ]
  }
 ],
 "metadata": {
  "kernelspec": {
   "display_name": "Python 3",
   "language": "python",
   "name": "python3"
  },
  "language_info": {
   "codemirror_mode": {
    "name": "ipython",
    "version": 3
   },
   "file_extension": ".py",
   "mimetype": "text/x-python",
   "name": "python",
   "nbconvert_exporter": "python",
   "pygments_lexer": "ipython3",
   "version": "3.6.3"
  }
 },
 "nbformat": 4,
 "nbformat_minor": 2
}
