{
 "cells": [
  {
   "cell_type": "markdown",
   "metadata": {},
   "source": [
    "# USING SPARK SQL IN PYTHON\n",
    "\n",
    "```python\n",
    "from pyspark.sql import SQLContext, Row\n",
    "hiveContext = HiveContext(sc)\n",
    "inputData = spark.read.json(dataFile)\n",
    "inputData.createOrReplaceTempView('myStructuredStuff')\n",
    "myResultDataFrame = hiveContext.sql('select foo from bar order by foobar')\n",
    "\n",
    "myResultDataFrame.show()\n",
    "myResultDataFrame.select('someFieldName')\n",
    "myResultDataFrame.filter(myResultDataFrame('someFieldName' > 200))\n",
    "myResultDataFrame.groupBy(myResultDataFrame('someFieldName')).mean()\n",
    "myResultDataFrame.rdd().map(mapperFunction)\n",
    "```"
   ]
  },
  {
   "cell_type": "markdown",
   "metadata": {},
   "source": [
    "## USER-DEFINED FUNCTIONS(UDF'S)\n",
    "\n",
    "```python\n",
    "from pyspark.sql.types import IntegerType\n",
    "hiveCtx.registerFunction('square', lambda x: x*x, IntegerType())\n",
    "df = hiveCtx.sql(\"select square('someNumericFiled') from tableName\")\n",
    "```"
   ]
  },
  {
   "cell_type": "code",
   "execution_count": 1,
   "metadata": {
    "collapsed": true
   },
   "outputs": [],
   "source": [
    "from pyspark.sql import SparkSession, Row\n",
    "import collections"
   ]
  },
  {
   "cell_type": "code",
   "execution_count": 2,
   "metadata": {
    "collapsed": true
   },
   "outputs": [],
   "source": [
    "# Create as SparkSession \n",
    "spark = SparkSession.builder.appName('SparkSQL').getOrCreate()"
   ]
  },
  {
   "cell_type": "code",
   "execution_count": 5,
   "metadata": {},
   "outputs": [],
   "source": [
    "from pyspark.sql.types import StructField, StringType, IntegerType, StructType"
   ]
  },
  {
   "cell_type": "code",
   "execution_count": 9,
   "metadata": {},
   "outputs": [],
   "source": [
    "data_schema = [StructField('ID', IntegerType(), True),\n",
    "               StructField('name', StringType(), True),\n",
    "               StructField('age', IntegerType(), True),\n",
    "               StructField('num_friends', IntegerType(), True)]"
   ]
  },
  {
   "cell_type": "code",
   "execution_count": 10,
   "metadata": {
    "collapsed": true
   },
   "outputs": [],
   "source": [
    "final_struc = StructType(data_schema)"
   ]
  },
  {
   "cell_type": "code",
   "execution_count": 11,
   "metadata": {},
   "outputs": [],
   "source": [
    "people = spark.read.csv(\"fakefriends.csv\", sep=',', encoding='utf-8', schema=final_struc)"
   ]
  },
  {
   "cell_type": "code",
   "execution_count": 12,
   "metadata": {},
   "outputs": [
    {
     "name": "stdout",
     "output_type": "stream",
     "text": [
      "+---+--------+---+-----------+\n",
      "| ID|    name|age|num_friends|\n",
      "+---+--------+---+-----------+\n",
      "|  0|    Will| 33|        385|\n",
      "|  1|Jean-Luc| 26|          2|\n",
      "|  2|    Hugh| 55|        221|\n",
      "|  3|  Deanna| 40|        465|\n",
      "|  4|   Quark| 68|         21|\n",
      "|  5|  Weyoun| 59|        318|\n",
      "|  6|  Gowron| 37|        220|\n",
      "|  7|    Will| 54|        307|\n",
      "|  8|  Jadzia| 38|        380|\n",
      "|  9|    Hugh| 27|        181|\n",
      "| 10|     Odo| 53|        191|\n",
      "| 11|     Ben| 57|        372|\n",
      "| 12|   Keiko| 54|        253|\n",
      "| 13|Jean-Luc| 56|        444|\n",
      "| 14|    Hugh| 43|         49|\n",
      "| 15|     Rom| 36|         49|\n",
      "| 16|  Weyoun| 22|        323|\n",
      "| 17|     Odo| 35|         13|\n",
      "| 18|Jean-Luc| 45|        455|\n",
      "| 19|  Geordi| 60|        246|\n",
      "+---+--------+---+-----------+\n",
      "only showing top 20 rows\n",
      "\n"
     ]
    }
   ],
   "source": [
    "people.show()"
   ]
  },
  {
   "cell_type": "code",
   "execution_count": 13,
   "metadata": {},
   "outputs": [
    {
     "name": "stdout",
     "output_type": "stream",
     "text": [
      "root\n",
      " |-- ID: integer (nullable = true)\n",
      " |-- name: string (nullable = true)\n",
      " |-- age: integer (nullable = true)\n",
      " |-- num_friends: integer (nullable = true)\n",
      "\n"
     ]
    }
   ],
   "source": [
    "people.printSchema()"
   ]
  },
  {
   "cell_type": "code",
   "execution_count": 16,
   "metadata": {
    "collapsed": true
   },
   "outputs": [],
   "source": [
    "people.createOrReplaceTempView(\"view_people\")"
   ]
  },
  {
   "cell_type": "code",
   "execution_count": 17,
   "metadata": {},
   "outputs": [],
   "source": [
    "# SQL can be run over DataFrames that have been registerd as a table\n",
    "teenagers = spark.sql('SELECT * FROM view_people WHERE age >= 13 AND age <= 19')"
   ]
  },
  {
   "cell_type": "code",
   "execution_count": 18,
   "metadata": {},
   "outputs": [
    {
     "name": "stdout",
     "output_type": "stream",
     "text": [
      "+---+-------+---+-----------+\n",
      "| ID|   name|age|num_friends|\n",
      "+---+-------+---+-----------+\n",
      "| 21|  Miles| 19|        268|\n",
      "| 52|Beverly| 19|        269|\n",
      "| 54|  Brunt| 19|          5|\n",
      "|106|Beverly| 18|        499|\n",
      "|115|  Dukat| 18|        397|\n",
      "|133|  Quark| 19|        265|\n",
      "|136|   Will| 19|        335|\n",
      "|225|   Elim| 19|        106|\n",
      "|304|   Will| 19|        404|\n",
      "|341|   Data| 18|        326|\n",
      "|366|  Keiko| 19|        119|\n",
      "|373|  Quark| 19|        272|\n",
      "|377|Beverly| 18|        418|\n",
      "|404| Kasidy| 18|         24|\n",
      "|409|    Nog| 19|        267|\n",
      "|439|   Data| 18|        417|\n",
      "|444|  Keiko| 18|        472|\n",
      "|492|  Dukat| 19|         36|\n",
      "|494| Kasidy| 18|        194|\n",
      "+---+-------+---+-----------+\n",
      "\n"
     ]
    }
   ],
   "source": [
    "teenagers.show()"
   ]
  },
  {
   "cell_type": "code",
   "execution_count": 23,
   "metadata": {},
   "outputs": [
    {
     "name": "stdout",
     "output_type": "stream",
     "text": [
      "21 Miles 19 268\n",
      "52 Beverly 19 269\n",
      "54 Brunt 19 5\n",
      "106 Beverly 18 499\n",
      "115 Dukat 18 397\n",
      "133 Quark 19 265\n",
      "136 Will 19 335\n",
      "225 Elim 19 106\n",
      "304 Will 19 404\n",
      "341 Data 18 326\n",
      "366 Keiko 19 119\n",
      "373 Quark 19 272\n",
      "377 Beverly 18 418\n",
      "404 Kasidy 18 24\n",
      "409 Nog 19 267\n",
      "439 Data 18 417\n",
      "444 Keiko 18 472\n",
      "492 Dukat 19 36\n",
      "494 Kasidy 18 194\n"
     ]
    }
   ],
   "source": [
    "# We can also use functions instead of SQL queries\n",
    "for teen in teenagers.collect():\n",
    "    print(teen[0], teen[1], teen[2], teen[3])"
   ]
  },
  {
   "cell_type": "code",
   "execution_count": 25,
   "metadata": {},
   "outputs": [
    {
     "name": "stdout",
     "output_type": "stream",
     "text": [
      "+---+-----+\n",
      "|age|count|\n",
      "+---+-----+\n",
      "| 18|    8|\n",
      "| 19|   11|\n",
      "+---+-----+\n",
      "\n"
     ]
    }
   ],
   "source": [
    "# We can also use functions instead of SQL queries\n",
    "teenagers.groupBy('age').count().orderBy('age').show()"
   ]
  },
  {
   "cell_type": "code",
   "execution_count": 26,
   "metadata": {
    "collapsed": true
   },
   "outputs": [],
   "source": [
    "spark.stop()"
   ]
  }
 ],
 "metadata": {
  "kernelspec": {
   "display_name": "Python 3",
   "language": "python",
   "name": "python3"
  },
  "language_info": {
   "codemirror_mode": {
    "name": "ipython",
    "version": 3
   },
   "file_extension": ".py",
   "mimetype": "text/x-python",
   "name": "python",
   "nbconvert_exporter": "python",
   "pygments_lexer": "ipython3",
   "version": "3.6.4"
  }
 },
 "nbformat": 4,
 "nbformat_minor": 2
}
